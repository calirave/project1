{
 "cells": [
  {
   "cell_type": "code",
   "execution_count": 23,
   "id": "a0c00b0c",
   "metadata": {},
   "outputs": [
    {
     "name": "stdout",
     "output_type": "stream",
     "text": [
      "Mission: Impossible - Dead Reckoning Part One: 575264\n",
      "Mission: Impossible: 954\n",
      "Mission: Impossible - Fallout: 353081\n",
      "Mission: Impossible - Ghost Protocol: 56292\n",
      "Mission: Impossible III: 956\n",
      "Mission: Impossible - Rogue Nation: 177677\n",
      "Mission: Impossible - Dead Reckoning Part Two: 575265\n",
      "Mission: Impossible II: 955\n"
     ]
    }
   ],
   "source": [
    "import requests\n",
    "import json\n",
    "import pandas\n",
    "from pprint import pprint\n",
    "from api_keys import api_key\n",
    "\n",
    "# search for a movie\n",
    "url = 'https://api.themoviedb.org/3/search/movie?api_key=' + api_key + '&query=Mission%20impossible'\n",
    "# format response\n",
    "response = requests.get(url, headers=headers)\n",
    "data = response.json()\n",
    "\n",
    "movie_name = []\n",
    "movie_id = []\n",
    "# get movie name and ID if it has a high enough popularity score\n",
    "for movie in data['results']:\n",
    "    if float(movie['popularity']) > 25:\n",
    "        movie_name.append(movie['title'])\n",
    "        movie_id.append(movie['id'])\n",
    "\n",
    "for i in range(len(movie_id)):\n",
    "    print(f'{movie_name[i]}: {movie_id[i]}')"
   ]
  },
  {
   "cell_type": "code",
   "execution_count": 31,
   "id": "a2fe009f",
   "metadata": {},
   "outputs": [
    {
     "name": "stdout",
     "output_type": "stream",
     "text": [
      "Mission: Impossible - Dead Reckoning Part One made: 79853000\n",
      "Mission: Impossible made: 377731198\n",
      "Mission: Impossible - Fallout made: 613657398\n",
      "Mission: Impossible - Ghost Protocol made: 549713380\n",
      "Mission: Impossible III made: 248479497\n",
      "Mission: Impossible - Rogue Nation made: 532716636\n",
      "Mission: Impossible - Dead Reckoning Part Two made: 0\n",
      "Mission: Impossible II made: 421388105\n"
     ]
    }
   ],
   "source": [
    "movie_rev = []\n",
    "movie_budget = []\n",
    "\n",
    "for film in movie_id:\n",
    "    # get more data on each using the ID\n",
    "    film_stats = requests.get('https://api.themoviedb.org/3/movie/'+ str(film) +'?api_key='+ api_key+'&language=en-US')\n",
    "    film_stats = film_revenue.json()\n",
    "    # add revenue and budget to list\n",
    "    movie_rev.append(film_stats['revenue'])\n",
    "    movie_budget.append(film_stats['budget'])\n",
    "\n",
    "#print(movie_budget)\n",
    "#print(movie_rev)\n",
    "\n",
    "# print profits\n",
    "for i in range(len(movie_rev)):\n",
    "    print(f'{movie_name[i]} made: {movie_rev[i] - movie_budget[i]}')"
   ]
  },
  {
   "cell_type": "code",
   "execution_count": null,
   "id": "26f21cc5",
   "metadata": {},
   "outputs": [],
   "source": [
    "# These are useful pages:\n",
    "# https://developer.themoviedb.org/docs/finding-data - for searching for movies in different ways\n",
    "# https://developer.themoviedb.org/reference/movie-details - for getting actual movie data"
   ]
  }
 ],
 "metadata": {
  "kernelspec": {
   "display_name": "Python 3 (ipykernel)",
   "language": "python",
   "name": "python3"
  },
  "language_info": {
   "codemirror_mode": {
    "name": "ipython",
    "version": 3
   },
   "file_extension": ".py",
   "mimetype": "text/x-python",
   "name": "python",
   "nbconvert_exporter": "python",
   "pygments_lexer": "ipython3",
   "version": "3.10.11"
  }
 },
 "nbformat": 4,
 "nbformat_minor": 5
}
