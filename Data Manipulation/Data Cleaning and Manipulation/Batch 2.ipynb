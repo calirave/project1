{
 "cells": [
  {
   "cell_type": "code",
   "execution_count": null,
   "id": "c5b20528",
   "metadata": {},
   "outputs": [],
   "source": [
    "# Project Title Next Movie Production"
   ]
  },
  {
   "cell_type": "code",
   "execution_count": null,
   "id": "2dc6d4cf",
   "metadata": {},
   "outputs": [],
   "source": [
    "# Q1 Actors and their correlation to a movie's success\n",
    "#Ideas:\n",
    "    # Top 10-20 Actors based on Movie revenue\n",
    "    # Top 10-20 Actors based on Ratings\n",
    "    # Is there an Actor (Part of 3 main character's) that starred in more than 1 Movie that is part of the Top 100 Movies based on revenue\n",
    "    # Highest number of Movies that Actor is part of and average revenue across all movies\n",
    "    "
   ]
  },
  {
   "cell_type": "code",
   "execution_count": null,
   "id": "3c16cc33",
   "metadata": {},
   "outputs": [],
   "source": [
    "# Q2 Movie rating's correlation to Directors\n",
    "#Create a graph showing relationship between revenue and ratings by year\n",
    "#Ideas:\n",
    "    # Top 10-20 Directors based on Movie revenue\n",
    "    # Top 10-20 Directors based on Ratings\n",
    "    # Is there a Director who directed more than 1 Movie that is part of the Top 100 Movies based on revenue\n",
    "    # Do Director's have \"Actor Favorites\" and worked with certain Actor multiple times (disregarding franchise) and is included in the Top 100 movies?\n",
    "    "
   ]
  },
  {
   "cell_type": "code",
   "execution_count": 1,
   "id": "830b476d",
   "metadata": {},
   "outputs": [],
   "source": [
    "# Q3 Movie rating's correlation to revenue\n",
    "#Create a graph showing revenue and ratings by year\n",
    "#Ideas:\n",
    "    # Show Top 10 Movies with highest ratings and their revenue\n",
    "    # Is the movie with the highest rating, also have the highest revenue?\n",
    "    # What is the rating of the movie with the Highest Revenue?\n",
    "    # What is the rating of the movie with the Lowest Revenue?\n",
    "    \n",
    "    "
   ]
  }
 ],
 "metadata": {
  "kernelspec": {
   "display_name": "Python 3 (ipykernel)",
   "language": "python",
   "name": "python3"
  },
  "language_info": {
   "codemirror_mode": {
    "name": "ipython",
    "version": 3
   },
   "file_extension": ".py",
   "mimetype": "text/x-python",
   "name": "python",
   "nbconvert_exporter": "python",
   "pygments_lexer": "ipython3",
   "version": "3.10.11"
  }
 },
 "nbformat": 4,
 "nbformat_minor": 5
}
