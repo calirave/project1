{
 "cells": [
  {
   "cell_type": "code",
   "execution_count": null,
   "id": "6d249c4c",
   "metadata": {},
   "outputs": [],
   "source": [
    "# Project Title Next Movie Production"
   ]
  },
  {
   "cell_type": "code",
   "execution_count": null,
   "id": "ce70d346",
   "metadata": {},
   "outputs": [],
   "source": [
    "# Q1 Movie revenue by month?\n",
    "# Create a graph that shows fluctations in revenue by month and year\n",
    "# Ideas of info we can show:\n",
    "    # What month has the highest and lowest revenue?\n",
    "    # In the last 5 years, provide the highest grossing film or the year and month of release.\n",
    "    # Accounting for peak COVID (2020-2021) - based on data, is there a significant change around this time in comparison to pre-covid (before 2020) and post-peak-covid (2022-2023)?\n"
   ]
  },
  {
   "cell_type": "code",
   "execution_count": null,
   "id": "27ab55c5",
   "metadata": {},
   "outputs": [],
   "source": [
    "# Q2 Movie revenue by genre?\n",
    "# Create a graph that shows the relation between genre and revenue by year\n",
    "# Ideas of info we can show:\n",
    "    # What is the top and lowest genre for each year?\n",
    "    # Is there a genre that is prevalent as top genre in the last 5-10 years?\n",
    "    # What genre is in decline YoY or getting popular YoY?"
   ]
  },
  {
   "cell_type": "code",
   "execution_count": null,
   "id": "be5148cc",
   "metadata": {},
   "outputs": [],
   "source": [
    "# Q3 What are better times of the year for certain genres of movies to be released?\n",
    "# Create a graph for movie genre trends by month and analyze if there is a correlation between genre and seasonality.\n",
    "# Ideas of info we can show:\n",
    "    # Is there a genre that is popular on certain months/season?\n",
    "    # What type of genre is popular all year round?\n",
    "    # Is there a genre that is only popular on certain months and not performing well in box office any other months/season?\n",
    "\n"
   ]
  }
 ],
 "metadata": {
  "kernelspec": {
   "display_name": "Python 3 (ipykernel)",
   "language": "python",
   "name": "python3"
  },
  "language_info": {
   "codemirror_mode": {
    "name": "ipython",
    "version": 3
   },
   "file_extension": ".py",
   "mimetype": "text/x-python",
   "name": "python",
   "nbconvert_exporter": "python",
   "pygments_lexer": "ipython3",
   "version": "3.10.11"
  }
 },
 "nbformat": 4,
 "nbformat_minor": 5
}
