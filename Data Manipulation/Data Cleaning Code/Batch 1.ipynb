{
 "cells": [
  {
   "cell_type": "code",
   "execution_count": null,
   "id": "6d249c4c",
   "metadata": {},
   "outputs": [],
   "source": [
    "# Project Title Next Movie Production"
   ]
  },
  {
   "cell_type": "code",
   "execution_count": null,
   "id": "ce70d346",
   "metadata": {},
   "outputs": [],
   "source": [
    "# Q1 Movie revenue by month"
   ]
  },
  {
   "cell_type": "code",
   "execution_count": null,
   "id": "be5148cc",
   "metadata": {},
   "outputs": [],
   "source": [
    "# Q2 What are better times of the year for certain genres of movies to be released"
   ]
  },
  {
   "cell_type": "code",
   "execution_count": null,
   "id": "27ab55c5",
   "metadata": {},
   "outputs": [],
   "source": [
    "# Q3 Revenues per genre"
   ]
  }
 ],
 "metadata": {
  "kernelspec": {
   "display_name": "Python 3 (ipykernel)",
   "language": "python",
   "name": "python3"
  },
  "language_info": {
   "codemirror_mode": {
    "name": "ipython",
    "version": 3
   },
   "file_extension": ".py",
   "mimetype": "text/x-python",
   "name": "python",
   "nbconvert_exporter": "python",
   "pygments_lexer": "ipython3",
   "version": "3.10.11"
  }
 },
 "nbformat": 4,
 "nbformat_minor": 5
}
