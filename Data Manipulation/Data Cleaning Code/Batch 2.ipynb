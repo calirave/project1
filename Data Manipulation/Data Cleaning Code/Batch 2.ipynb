{
 "cells": [
  {
   "cell_type": "code",
   "execution_count": null,
   "id": "c5b20528",
   "metadata": {},
   "outputs": [],
   "source": [
    "# Project Title Next Movie Production"
   ]
  },
  {
   "cell_type": "code",
   "execution_count": null,
   "id": "2dc6d4cf",
   "metadata": {},
   "outputs": [],
   "source": [
    "# Q1 Actors and their correlation to a movie's success"
   ]
  },
  {
   "cell_type": "code",
   "execution_count": null,
   "id": "3c16cc33",
   "metadata": {},
   "outputs": [],
   "source": [
    "# Q2 Movie rating's correlation to Directors"
   ]
  },
  {
   "cell_type": "code",
   "execution_count": null,
   "id": "830b476d",
   "metadata": {},
   "outputs": [],
   "source": [
    "# Q3 Movie rating's correlation to revenue"
   ]
  }
 ],
 "metadata": {
  "kernelspec": {
   "display_name": "Python 3 (ipykernel)",
   "language": "python",
   "name": "python3"
  },
  "language_info": {
   "codemirror_mode": {
    "name": "ipython",
    "version": 3
   },
   "file_extension": ".py",
   "mimetype": "text/x-python",
   "name": "python",
   "nbconvert_exporter": "python",
   "pygments_lexer": "ipython3",
   "version": "3.10.11"
  }
 },
 "nbformat": 4,
 "nbformat_minor": 5
}
