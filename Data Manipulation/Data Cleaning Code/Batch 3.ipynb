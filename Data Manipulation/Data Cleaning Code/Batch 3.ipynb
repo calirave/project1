{
 "cells": [
  {
   "cell_type": "code",
   "execution_count": null,
   "id": "8f0ff343",
   "metadata": {},
   "outputs": [],
   "source": [
    "# Project Title Next Movie Production"
   ]
  },
  {
   "cell_type": "code",
   "execution_count": null,
   "id": "ebd03e85",
   "metadata": {},
   "outputs": [],
   "source": [
    "# Q1 Initial investment vs revenue (ROI calculation)"
   ]
  },
  {
   "cell_type": "code",
   "execution_count": null,
   "id": "2579a66a",
   "metadata": {},
   "outputs": [],
   "source": [
    "# Q2 Franchise or comic-based movies revenue performance vs non-franchise movie"
   ]
  }
 ],
 "metadata": {
  "kernelspec": {
   "display_name": "Python 3 (ipykernel)",
   "language": "python",
   "name": "python3"
  },
  "language_info": {
   "codemirror_mode": {
    "name": "ipython",
    "version": 3
   },
   "file_extension": ".py",
   "mimetype": "text/x-python",
   "name": "python",
   "nbconvert_exporter": "python",
   "pygments_lexer": "ipython3",
   "version": "3.10.11"
  }
 },
 "nbformat": 4,
 "nbformat_minor": 5
}
