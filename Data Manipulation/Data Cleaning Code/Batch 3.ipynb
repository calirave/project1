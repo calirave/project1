{
 "cells": [
  {
   "cell_type": "code",
   "execution_count": null,
   "id": "8f0ff343",
   "metadata": {},
   "outputs": [],
   "source": [
    "# Project Title Next Movie Production"
   ]
  },
  {
   "cell_type": "code",
   "execution_count": null,
   "id": "ebd03e85",
   "metadata": {},
   "outputs": [],
   "source": [
    "# Q1 Initial investment vs revenue (ROI calculation)\n",
    "# Create a graph that shows the relation between Budget and Revenue\n",
    "#Ideas:\n",
    "    # Which movie have the highest ROI (Revenue - Budget)\n",
    "    # Top 10-20 movies with the highest budget with their revenue and ratings\n",
    "    # Top 10-20 movies based on percent growth\n",
    "    "
   ]
  },
  {
   "cell_type": "code",
   "execution_count": null,
   "id": "2579a66a",
   "metadata": {},
   "outputs": [],
   "source": [
    "# Q2 Franchise or comic-based movies revenue performance vs non-franchise movie\n",
    "#Ideas:\n",
    "    # Create a group for top 10-20 comic-based movies and get the average revenue in the last 15 years vs. top 10-20 non-franchise movies\n",
    "    # Create a graph that shows the difference between the data above\n",
    "    # Is the highest grossing movie a franchise/comic-based?\n",
    "    # In the top 100 movies, how many movies are franchise/comic-based?"
   ]
  }
 ],
 "metadata": {
  "kernelspec": {
   "display_name": "Python 3 (ipykernel)",
   "language": "python",
   "name": "python3"
  },
  "language_info": {
   "codemirror_mode": {
    "name": "ipython",
    "version": 3
   },
   "file_extension": ".py",
   "mimetype": "text/x-python",
   "name": "python",
   "nbconvert_exporter": "python",
   "pygments_lexer": "ipython3",
   "version": "3.10.11"
  }
 },
 "nbformat": 4,
 "nbformat_minor": 5
}
